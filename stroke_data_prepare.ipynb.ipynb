{
 "cells": [
  {
   "cell_type": "code",
   "execution_count": 1,
   "metadata": {},
   "outputs": [],
   "source": [
    "#%% 1. import all tools and libraries\n",
    "from liesl.api import XDFFile\n",
    "import pyxdf\n",
    "import numpy as np\n",
    "import os\n",
    "import fnmatch\n",
    "from scipy import io\n",
    "\n",
    "#%% 2. Predefine variables and conditions\n",
    "# key of interest (recorded physiological data)\n",
    "direct = '/home/jeanettenischan/Data/data_INTENS_TMS/data/' #main folder with all subject subfolders\n"
   ]
  },
  {
   "cell_type": "code",
   "execution_count": 2,
   "metadata": {},
   "outputs": [],
   "source": [
    "\n",
    "\n",
    "#%% . prepare data for processing\n",
    "\n",
    "# 1.1 define function to list all relevant (ipsilesional) xdf files\n",
    "def find_files(direct):\n",
    "    ''' finds .xdf files in the given directory for a given subject (alias) that contain the string <ipsilesional>\n",
    "    https://stacktuts.com/how-to-iterate-over-files-in-directory-using-python-with-example-code\n",
    "    https://stackoverflow.com/questions/36294712/python-filename-contains-string-metachar'''\n",
    "    xdf_files = []\n",
    "    for root, dirs, files in os.walk(direct):\n",
    "        for file in files:\n",
    "            if file.endswith('.xdf') and fnmatch.fnmatch(file, \"*\"+\"ipsilesional\"+\"*\"): \n",
    "                xdf_files.append(os.path.join(root, file))             \n",
    "    return xdf_files\n"
   ]
  },
  {
   "cell_type": "code",
   "execution_count": 66,
   "metadata": {},
   "outputs": [],
   "source": [
    "\n",
    "def get_ids(file_array):\n",
    "    subject_ids = []\n",
    "    for i in range(len(file_array)):\n",
    "        subject = str(file_array[i][48:51])\n",
    "        if subject not in subject_ids and subject != '016':\n",
    "            subject_ids.append(subject)\n",
    "    return subject_ids    \n",
    "       \n"
   ]
  },
  {
   "cell_type": "code",
   "execution_count": 67,
   "metadata": {},
   "outputs": [],
   "source": [
    "#%% Iterate over patient folders and check if preparation is neccessary\n",
    "xdf_files = find_files(direct)\n",
    "subject_ids = get_ids(xdf_files)"
   ]
  },
  {
   "cell_type": "code",
   "execution_count": 5,
   "metadata": {},
   "outputs": [],
   "source": [
    "\n",
    "\n",
    "# 1.2 define a function to load xdf files and save as a matfile\n",
    "def xdf_to_mat(alias, file_array):\n",
    "    patient_id = alias\n",
    "    for i in range(len(file_array)):\n",
    "        file_name = file_array[i]\n",
    "        xdf_file = XDFFile(file_array[i])\n",
    "        chan = xdf_file[\"BrainVision RDA\"].channel_labels\n",
    "        sp_phase = xdf_file[\"Spongebob-Data\"].time_series[:, 12]# 9\n",
    "        sp_trigger = xdf_file[\"Spongebob-Data\"].time_series[:,11]\n",
    "        trigger = np.where(sp_trigger==1)[0]\n",
    "        sp_pd = []\n",
    "        for ts in trigger:\n",
    "            phase = sp_phase[trigger]\n",
    "            sp_pd.append(phase) \n"
   ]
  },
  {
   "cell_type": "code",
   "execution_count": 59,
   "metadata": {},
   "outputs": [
    {
     "name": "stdout",
     "output_type": "stream",
     "text": [
      "XDFFile: Parsing BrainVision RDA Markers\n",
      "XDFFile: Parsing BrainVision RDA\n",
      "XDFFile: Parsing TMS_Triggermarker IOC\n",
      "XDFFile: Parsing Spongebob-Data\n"
     ]
    }
   ],
   "source": []
  },
  {
   "cell_type": "code",
   "execution_count": 60,
   "metadata": {},
   "outputs": [],
   "source": [
    "chan = xdf_file[\"BrainVision RDA\"].channel_labels\n",
    "sp_phase = xdf_file[\"Spongebob-Data\"].time_series[:, 12]# 9\n",
    "sp_trigger = xdf_file[\"Spongebob-Data\"].time_series[:,11]\n",
    "trigger = np.where(sp_trigger==1)[0]\n",
    "sp_pd = []\n",
    "for ts in trigger:\n",
    "    phase = sp_phase[trigger]\n",
    "    sp_pd.append(phase) "
   ]
  },
  {
   "cell_type": "code",
   "execution_count": 61,
   "metadata": {},
   "outputs": [],
   "source": [
    "\n",
    "first_pdRMT = trigger[0]\n",
    "last_pdRMT = trigger[-1]\n",
    "sp_tstamp = xdf_file[\"Spongebob-Data\"].time_stamps                     \n",
    "bv_tstamp = xdf_file[\"BrainVision RDA\"].time_stamps\n",
    "bv_tseries = xdf_file[\"BrainVision RDA\"].time_series\n",
    "sp_tseries = xdf_file[\"Spongebob-Data\"].time_series\n",
    "# Trigger for first hemipshere according to spongebob:\n",
    "bv_trigidx_0 = []\n"
   ]
  },
  {
   "cell_type": "code",
   "execution_count": 62,
   "metadata": {},
   "outputs": [],
   "source": [
    "\n",
    "for ts in trigger: # find closest tstamps in EMG (BrainVision RDA)\n",
    "# sp_trigger = xdf[\"Spongebob-Data\"].time_series[ts, 11]\n",
    "    sp_trig = xdf_file[\"Spongebob-Data\"].time_stamps[ts]\n",
    "    bv_trig = np.argmin(np.abs(bv_tstamp - sp_trig))\n",
    "# bv_tstamps = bv_tstamp[trigger_according_to_sp]\n",
    "    bv_trigidx_0.append(bv_trig)\n"
   ]
  },
  {
   "cell_type": "code",
   "execution_count": 63,
   "metadata": {},
   "outputs": [],
   "source": [
    "\n",
    "# Get  phase \n",
    "emg_data = xdf_file[\"BrainVision RDA\"].time_series\n",
    "\n",
    "gmfp = np.std(emg_data[:, 0:64], 1)\n",
    "aptp = []\n",
    "arttrig = []\n",
    "\n",
    "# find artifact via gmfp for first hem\n",
    "for onset in bv_trigidx_0:\n",
    "    artifact = gmfp[onset-150 : onset+150]\n",
    "    aptp.append(np.ptp(artifact))\n",
    "    arttrig.append(int(np.argmax(artifact) - 150 + onset)) # find artifact via gmfp\n",
    "\n",
    "tms_artifact = np.array(arttrig)   "
   ]
  },
  {
   "cell_type": "code",
   "execution_count": 64,
   "metadata": {},
   "outputs": [],
   "source": [
    " \n",
    "\n",
    "data_IO = {\n",
    "    \"channel_label\": chan, \"BrainVisionRDA_stamps\": bv_tstamp, \n",
    "    \"BrainVisionRDA_series\": bv_tseries, \"tms_artifact\": tms_artifact,\n",
    "    \"spongebob_timeseries\": sp_tseries, \"spongebob_timestamps\": sp_tstamp\n",
    "          }\n"
   ]
  },
  {
   "cell_type": "code",
   "execution_count": 65,
   "metadata": {},
   "outputs": [],
   "source": [
    "\n",
    "if '_0_ipsilesional' in str(file_name): \n",
    "    hemisphere = 'ipsilesional_0'\n",
    "    filename = direct + \"/\" + patient_id + \"/pre1/\" + \"IO_\" + hemisphere + \".mat\"\n",
    "    io.savemat(filename, data_IO)\n",
    "elif '_180_' in str(file_name):\n",
    "    hemisphere = 'ipsilesional_180'\n",
    "    filename = direct + \"/\" + patient_id + \"/pre1/\" + \"IO_\" + hemisphere + \".mat\"\n",
    "    io.savemat(filename, data_IO)   \n",
    "\n"
   ]
  }
 ],
 "metadata": {
  "interpreter": {
   "hash": "ea4702264041e7c5f4ca95b5f4f15f7e26ea086894d43d1ed41b4bfcddd5e462"
  },
  "kernelspec": {
   "display_name": "Python 3.9.7 ('venv-MEP_Analysis': venv)",
   "language": "python",
   "name": "python3"
  },
  "language_info": {
   "codemirror_mode": {
    "name": "ipython",
    "version": 3
   },
   "file_extension": ".py",
   "mimetype": "text/x-python",
   "name": "python",
   "nbconvert_exporter": "python",
   "pygments_lexer": "ipython3",
   "version": "3.9.7"
  },
  "orig_nbformat": 4
 },
 "nbformat": 4,
 "nbformat_minor": 2
}
